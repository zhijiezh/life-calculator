{
 "cells": [
  {
   "cell_type": "markdown",
   "metadata": {},
   "source": [
    "# 人生计算器"
   ]
  },
  {
   "cell_type": "code",
   "execution_count": 11,
   "metadata": {},
   "outputs": [],
   "source": [
    "import numpy as np\n",
    "import altair as alt\n",
    "import pandas as pd\n",
    "from ipywidgets import interact, interactive, fixed, interact_manual\n",
    "import ipywidgets as widgets"
   ]
  },
  {
   "cell_type": "code",
   "execution_count": 14,
   "metadata": {},
   "outputs": [],
   "source": [
    "def life_calculator(years, initial_savings, salary_func, investment_func, spending_func):\n",
    "    \"\"\"\n",
    "    计算并返回未来几年的每年净收入，考虑资金累积。\n",
    "    - years: 预测年数\n",
    "    - initial_savings: 初始存款金额\n",
    "    - salary_func: 接收年份，返回每年的税后收入数组\n",
    "    - investment_func: 接收年份和上年末余额，返回每年的投资收入数组\n",
    "    - spending_func: 接收年份，返回每年的花销数组\n",
    "    \"\"\"\n",
    "    years_array = np.arange(1, years + 1)\n",
    "    savings = np.zeros(years)  # 初始化一个存储每年末余额的数组\n",
    "    savings[0] = initial_savings  # 设定初始存款\n",
    "    \n",
    "    for i in range(years):\n",
    "        year = years_array[i]\n",
    "        current_salary = salary_func(year)\n",
    "        current_spending = spending_func(year)\n",
    "        \n",
    "        if i == 0:\n",
    "            previous_savings = initial_savings\n",
    "        else:\n",
    "            previous_savings = savings[i - 1]\n",
    "        \n",
    "        # 计算投资收入\n",
    "        current_investment_income = investment_func(year, previous_savings)\n",
    "        \n",
    "        # 更新余额\n",
    "        savings[i] = previous_savings + current_salary + current_investment_income - current_spending\n",
    "    \n",
    "    # 净收入是每年的增长量\n",
    "    net_income = savings - np.roll(savings, 1)\n",
    "    net_income[0] = savings[0] - initial_savings  # 第一年的净收入特殊处理\n",
    "    \n",
    "    return years_array, net_income, savings"
   ]
  },
  {
   "cell_type": "code",
   "execution_count": 15,
   "metadata": {},
   "outputs": [],
   "source": [
    "# 示例函数\n",
    "def salary_example(years):\n",
    "    # 假设起始年薪为税后120,000美元，并每年增长5%\n",
    "    return 120000 * (1.05 ** (years - 1))\n",
    "\n",
    "\n",
    "\n",
    "def spending_example(years):\n",
    "    # 假设每年的花销为20,000美元，并每年增长3%\n",
    "    return 20000 * (1.03 ** (years - 1))"
   ]
  },
  {
   "cell_type": "code",
   "execution_count": 18,
   "metadata": {},
   "outputs": [
    {
     "data": {
      "application/vnd.jupyter.widget-view+json": {
       "model_id": "cf7ae083a2e94f919cdb3cd848cc09a1",
       "version_major": 2,
       "version_minor": 0
      },
      "text/plain": [
       "interactive(children=(FloatSlider(value=0.5, description='investment_return_per_year', max=1.0, step=0.01), Ou…"
      ]
     },
     "metadata": {},
     "output_type": "display_data"
    }
   ],
   "source": [
    "@interact(investment_return_per_year=(0.0,1.0,0.01))\n",
    "def interactive_plot(investment_return_per_year):\n",
    "\n",
    "  def investment_func(year, previous_savings):\n",
    "      # 假设每年的投资回报率为7%\n",
    "      return previous_savings * investment_return_per_year\n",
    "\n",
    "  years, net_income, total_savings = life_calculator(30, 80000, salary_example, investment_func, spending_example)\n",
    "  income_target = 365000\n",
    "  savings_target = 10000000\n",
    "\n",
    "\n",
    "  data = pd.DataFrame({\n",
    "      'Year': years,\n",
    "      'Net Income': net_income,\n",
    "      'Total Savings': total_savings\n",
    "    })\n",
    "  def find_first_year(data, column, threshold):\n",
    "      \"\"\"找到数据首次达到某一阈值的年份\"\"\"\n",
    "      years = data['Year'][data[column] >= threshold]\n",
    "      if len(years) > 0:\n",
    "          return years.iloc[0]\n",
    "      else:\n",
    "          return None  # 如果没有达到目标，则返回 None\n",
    "  income_target_year = find_first_year(data, 'Net Income', income_target)\n",
    "  savings_target_year = find_first_year(data, 'Total Savings', savings_target)\n",
    "\n",
    "  base = alt.Chart(data).encode(x='Year:O')\n",
    "\n",
    "  # 网络收入图\n",
    "  net_income_chart = base.mark_line(color='blue', point=True).encode(\n",
    "      y='Net Income:Q',\n",
    "      tooltip=['Year', 'Net Income']\n",
    "  ).properties(\n",
    "      title=\"Net Income Over Years\"\n",
    "  )\n",
    "  # 总储蓄图\n",
    "  savings_chart = base.mark_line(color='green', point=True).encode(\n",
    "      y='Total Savings:Q',\n",
    "      tooltip=['Year', 'Total Savings']\n",
    "  ).properties(\n",
    "      title=\"Total Savings Over Years\"\n",
    "  )\n",
    "  # 如果有达到目标的年份，则添加标记线\n",
    "  if income_target_year:\n",
    "      income_target_line = alt.Chart(pd.DataFrame({'Year': [income_target_year]})).mark_rule(color='red', strokeDash=[6,2]).encode(\n",
    "          x='Year:O'\n",
    "      )\n",
    "      net_income_line = alt.Chart(pd.DataFrame({'y': [income_target]})).mark_rule(color='red', strokeDash=[6,2]).encode(\n",
    "          y='y:Q'\n",
    "      )\n",
    "      net_income_chart += income_target_line + net_income_line\n",
    "  if savings_target_year:\n",
    "      savings_target_line = alt.Chart(pd.DataFrame({'Year': [savings_target_year]})).mark_rule(color='red', strokeDash=[6,2]).encode(\n",
    "          x='Year:O'\n",
    "      )\n",
    "      # 添加总储蓄达到 10,000,000 美元的水平线\n",
    "      savings_line = alt.Chart(pd.DataFrame({'y': [savings_target]})).mark_rule(color='red', strokeDash=[6,2]).encode(\n",
    "          y='y:Q'\n",
    "      )\n",
    "      savings_chart += savings_target_line + savings_line\n",
    "\n",
    "\n",
    "  return net_income_chart | savings_chart  # 并排显示两个图表"
   ]
  }
 ],
 "metadata": {
  "kernelspec": {
   "display_name": "stats415",
   "language": "python",
   "name": "python3"
  },
  "language_info": {
   "codemirror_mode": {
    "name": "ipython",
    "version": 3
   },
   "file_extension": ".py",
   "mimetype": "text/x-python",
   "name": "python",
   "nbconvert_exporter": "python",
   "pygments_lexer": "ipython3",
   "version": "3.9.18"
  }
 },
 "nbformat": 4,
 "nbformat_minor": 2
}
