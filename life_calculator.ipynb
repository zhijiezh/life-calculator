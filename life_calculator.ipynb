{
 "cells": [
  {
   "cell_type": "markdown",
   "metadata": {},
   "source": [
    "# 人生计算器"
   ]
  },
  {
   "cell_type": "code",
   "execution_count": 1,
   "metadata": {},
   "outputs": [
    {
     "ename": "ModuleNotFoundError",
     "evalue": "No module named 'altair'",
     "output_type": "error",
     "traceback": [
      "\u001b[0;31m---------------------------------------------------------------------------\u001b[0m",
      "\u001b[0;31mModuleNotFoundError\u001b[0m                       Traceback (most recent call last)",
      "Cell \u001b[0;32mIn[1], line 2\u001b[0m\n\u001b[1;32m      1\u001b[0m \u001b[38;5;28;01mimport\u001b[39;00m \u001b[38;5;21;01mnumpy\u001b[39;00m \u001b[38;5;28;01mas\u001b[39;00m \u001b[38;5;21;01mnp\u001b[39;00m\n\u001b[0;32m----> 2\u001b[0m \u001b[38;5;28;01mimport\u001b[39;00m \u001b[38;5;21;01maltair\u001b[39;00m \u001b[38;5;28;01mas\u001b[39;00m \u001b[38;5;21;01malt\u001b[39;00m\n\u001b[1;32m      3\u001b[0m \u001b[38;5;28;01mimport\u001b[39;00m \u001b[38;5;21;01mpandas\u001b[39;00m \u001b[38;5;28;01mas\u001b[39;00m \u001b[38;5;21;01mpd\u001b[39;00m\n",
      "\u001b[0;31mModuleNotFoundError\u001b[0m: No module named 'altair'"
     ]
    }
   ],
   "source": [
    "import numpy as np\n",
    "import altair as alt\n",
    "import pandas as pd"
   ]
  },
  {
   "cell_type": "code",
   "execution_count": null,
   "metadata": {},
   "outputs": [],
   "source": [
    "def life_calculator(years, salary_func, investment_func, spending_func):\n",
    "    \"\"\"\n",
    "    计算并返回未来几年的每年净收入。\n",
    "    - years: 预测年数\n",
    "    - salary_func: 接收年份，返回每年的税后收入数组\n",
    "    - investment_func: 接收年份，返回每年的投资收入百分比数组\n",
    "    - spending_func: 接收年份，返回每年的花销数组\n",
    "    \"\"\"\n",
    "    # 创建年份的数组\n",
    "    years_array = np.arange(1, years + 1)\n",
    "    \n",
    "    # 计算每年的收入和支出\n",
    "    salary = salary_func(years_array)\n",
    "    investment_returns = investment_func(years_array) * salary  # 假设投资收入是基于工资收入的百分比\n",
    "    spending = spending_func(years_array)\n",
    "    \n",
    "    # 计算净收入\n",
    "    net_income = salary + investment_returns - spending\n",
    "    \n",
    "    return years_array, net_income\n",
    "\n",
    "# 示例函数\n",
    "def salary_example(years):\n",
    "    # 假设起始年薪为30,000美元，并每年增长5%\n",
    "    return 30000 * (1.05 ** (years - 1))\n",
    "\n",
    "def investment_example(years):\n",
    "    # 假设每年的投资回报率为7%\n",
    "    return np.full(years.shape, 0.07)\n",
    "\n",
    "def spending_example(years):\n",
    "    # 假设每年的花销为20,000美元，并每年增长3%\n",
    "    return 20000 * (1.03 ** (years - 1))\n"
   ]
  }
 ],
 "metadata": {
  "kernelspec": {
   "display_name": "stats415",
   "language": "python",
   "name": "python3"
  },
  "language_info": {
   "codemirror_mode": {
    "name": "ipython",
    "version": 3
   },
   "file_extension": ".py",
   "mimetype": "text/x-python",
   "name": "python",
   "nbconvert_exporter": "python",
   "pygments_lexer": "ipython3",
   "version": "3.9.18"
  }
 },
 "nbformat": 4,
 "nbformat_minor": 2
}
